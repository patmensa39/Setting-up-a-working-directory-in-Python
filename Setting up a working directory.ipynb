{
 "cells": [
  {
   "cell_type": "code",
   "execution_count": 6,
   "metadata": {},
   "outputs": [
    {
     "name": "stdout",
     "output_type": "stream",
     "text": [
      "Patrick's current working directory is set to: C:\\Users\\patme\\OneDrive\\Desktop\\Data_Science\\Python\\data\n"
     ]
    }
   ],
   "source": [
    "import os\n",
    "\n",
    "def set_working_directory(folder_path):\n",
    "    if not os.path.exists(folder_path):\n",
    "        print(\"Error: Directory does not exist.\")\n",
    "        return None\n",
    "    \n",
    "    try:\n",
    "        os.chdir(folder_path)\n",
    "        new_directory = os.getcwd()\n",
    "        return new_directory\n",
    "    except Exception as e:\n",
    "        print(\"An error occurred:\", str(e))\n",
    "        return None\n",
    "\n",
    "# Example usage:\n",
    "folder_path = r\"C:\\Users\\patme\\OneDrive\\Desktop\\Data_Science\\Python\\data\"\n",
    "new_directory = set_working_directory(folder_path)\n",
    "if new_directory:\n",
    "    print(\"Patrick's current working directory is set to:\", new_directory)\n",
    "\n"
   ]
  }
 ],
 "metadata": {
  "kernelspec": {
   "display_name": "Python 3",
   "language": "python",
   "name": "python3"
  },
  "language_info": {
   "codemirror_mode": {
    "name": "ipython",
    "version": 3
   },
   "file_extension": ".py",
   "mimetype": "text/x-python",
   "name": "python",
   "nbconvert_exporter": "python",
   "pygments_lexer": "ipython3",
   "version": "3.12.2"
  }
 },
 "nbformat": 4,
 "nbformat_minor": 2
}
